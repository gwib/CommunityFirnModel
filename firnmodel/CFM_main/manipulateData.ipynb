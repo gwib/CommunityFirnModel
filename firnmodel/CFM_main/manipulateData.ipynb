{
 "cells": [
  {
   "cell_type": "code",
   "execution_count": 2,
   "metadata": {},
   "outputs": [],
   "source": [
    "import numpy as np\n",
    "import pandas as pd"
   ]
  },
  {
   "cell_type": "code",
   "execution_count": 2,
   "metadata": {},
   "outputs": [],
   "source": [
    "# Depth- density profile at 82,28 N; 15,7 E\n",
    "profile1 = pd.read_csv('obsProfiles/46Density.tsv', delimiter='\\t')"
   ]
  },
  {
   "cell_type": "code",
   "execution_count": 3,
   "metadata": {},
   "outputs": [
    {
     "data": {
      "text/html": [
       "<div>\n",
       "<style scoped>\n",
       "    .dataframe tbody tr th:only-of-type {\n",
       "        vertical-align: middle;\n",
       "    }\n",
       "\n",
       "    .dataframe tbody tr th {\n",
       "        vertical-align: top;\n",
       "    }\n",
       "\n",
       "    .dataframe thead th {\n",
       "        text-align: right;\n",
       "    }\n",
       "</style>\n",
       "<table border=\"1\" class=\"dataframe\">\n",
       "  <thead>\n",
       "    <tr style=\"text-align: right;\">\n",
       "      <th></th>\n",
       "      <th>Depth [m]</th>\n",
       "      <th>Density [kg/m3]</th>\n",
       "    </tr>\n",
       "  </thead>\n",
       "  <tbody>\n",
       "    <tr>\n",
       "      <th>0</th>\n",
       "      <td>3.30</td>\n",
       "      <td>883.894616</td>\n",
       "    </tr>\n",
       "    <tr>\n",
       "      <th>1</th>\n",
       "      <td>3.85</td>\n",
       "      <td>877.359798</td>\n",
       "    </tr>\n",
       "    <tr>\n",
       "      <th>2</th>\n",
       "      <td>4.40</td>\n",
       "      <td>870.582950</td>\n",
       "    </tr>\n",
       "    <tr>\n",
       "      <th>3</th>\n",
       "      <td>4.95</td>\n",
       "      <td>903.983130</td>\n",
       "    </tr>\n",
       "    <tr>\n",
       "      <th>4</th>\n",
       "      <td>5.50</td>\n",
       "      <td>893.091767</td>\n",
       "    </tr>\n",
       "  </tbody>\n",
       "</table>\n",
       "</div>"
      ],
      "text/plain": [
       "   Depth [m]  Density [kg/m3]\n",
       "0       3.30       883.894616\n",
       "1       3.85       877.359798\n",
       "2       4.40       870.582950\n",
       "3       4.95       903.983130\n",
       "4       5.50       893.091767"
      ]
     },
     "execution_count": 3,
     "metadata": {},
     "output_type": "execute_result"
    }
   ],
   "source": [
    "profile1.head()"
   ]
  },
  {
   "cell_type": "code",
   "execution_count": 4,
   "metadata": {},
   "outputs": [],
   "source": [
    "# Depth- density profile at 77,25 N; -49 E\n",
    "profile2 = pd.read_csv('obsProfiles/B26_2011_pit_density_noHeader.tsv', delimiter='\\t')"
   ]
  },
  {
   "cell_type": "code",
   "execution_count": 5,
   "metadata": {},
   "outputs": [
    {
     "data": {
      "text/html": [
       "<div>\n",
       "<style scoped>\n",
       "    .dataframe tbody tr th:only-of-type {\n",
       "        vertical-align: middle;\n",
       "    }\n",
       "\n",
       "    .dataframe tbody tr th {\n",
       "        vertical-align: top;\n",
       "    }\n",
       "\n",
       "    .dataframe thead th {\n",
       "        text-align: right;\n",
       "    }\n",
       "</style>\n",
       "<table border=\"1\" class=\"dataframe\">\n",
       "  <thead>\n",
       "    <tr style=\"text-align: right;\">\n",
       "      <th></th>\n",
       "      <th>Depth [cm]</th>\n",
       "      <th>Mass [g]</th>\n",
       "    </tr>\n",
       "  </thead>\n",
       "  <tbody>\n",
       "    <tr>\n",
       "      <th>0</th>\n",
       "      <td>3</td>\n",
       "      <td>16</td>\n",
       "    </tr>\n",
       "    <tr>\n",
       "      <th>1</th>\n",
       "      <td>6</td>\n",
       "      <td>20</td>\n",
       "    </tr>\n",
       "    <tr>\n",
       "      <th>2</th>\n",
       "      <td>9</td>\n",
       "      <td>23</td>\n",
       "    </tr>\n",
       "    <tr>\n",
       "      <th>3</th>\n",
       "      <td>12</td>\n",
       "      <td>32</td>\n",
       "    </tr>\n",
       "    <tr>\n",
       "      <th>4</th>\n",
       "      <td>15</td>\n",
       "      <td>30</td>\n",
       "    </tr>\n",
       "  </tbody>\n",
       "</table>\n",
       "</div>"
      ],
      "text/plain": [
       "   Depth [cm]   Mass [g]\n",
       "0           3         16\n",
       "1           6         20\n",
       "2           9         23\n",
       "3          12         32\n",
       "4          15         30"
      ]
     },
     "execution_count": 5,
     "metadata": {},
     "output_type": "execute_result"
    }
   ],
   "source": [
    "# input depth given in cm and mass in g given per cube of size = 3 *5.5 * 6 cm3 = 99 cm3 = 0.9e-5 m3\n",
    "profile2.head()"
   ]
  },
  {
   "cell_type": "code",
   "execution_count": 6,
   "metadata": {},
   "outputs": [
    {
     "data": {
      "text/plain": [
       "Index(['Depth [cm]', ' Mass [g]'], dtype='object')"
      ]
     },
     "execution_count": 6,
     "metadata": {},
     "output_type": "execute_result"
    }
   ],
   "source": [
    "profile2.keys()"
   ]
  },
  {
   "cell_type": "code",
   "execution_count": 7,
   "metadata": {},
   "outputs": [],
   "source": [
    "profile2['Depth [m]'] = profile2.apply(lambda row: row['Depth [cm]']/100, axis=1)"
   ]
  },
  {
   "cell_type": "code",
   "execution_count": 8,
   "metadata": {},
   "outputs": [],
   "source": [
    "profile2['Density [kg/m3]'] = profile2.apply(lambda row: row[' Mass [g]']*100/9.9, axis=1)"
   ]
  },
  {
   "cell_type": "code",
   "execution_count": 9,
   "metadata": {},
   "outputs": [],
   "source": [
    "profile2 = profile2.loc[:,'Depth [m]':'Density [kg/m3]']"
   ]
  },
  {
   "cell_type": "code",
   "execution_count": 10,
   "metadata": {},
   "outputs": [],
   "source": [
    "profile2 = profile2.set_index('Depth [m]')"
   ]
  },
  {
   "cell_type": "code",
   "execution_count": 11,
   "metadata": {},
   "outputs": [],
   "source": [
    "profile2.to_csv('obsProfiles/B26_2011_converted.csv')"
   ]
  },
  {
   "cell_type": "code",
   "execution_count": 12,
   "metadata": {},
   "outputs": [],
   "source": [
    "profile3 = pd.read_csv('obsProfiles/NEEM2007shallowcoreDensity.txt', delimiter='\\t')"
   ]
  },
  {
   "cell_type": "code",
   "execution_count": 13,
   "metadata": {},
   "outputs": [
    {
     "data": {
      "text/html": [
       "<div>\n",
       "<style scoped>\n",
       "    .dataframe tbody tr th:only-of-type {\n",
       "        vertical-align: middle;\n",
       "    }\n",
       "\n",
       "    .dataframe tbody tr th {\n",
       "        vertical-align: top;\n",
       "    }\n",
       "\n",
       "    .dataframe thead th {\n",
       "        text-align: right;\n",
       "    }\n",
       "</style>\n",
       "<table border=\"1\" class=\"dataframe\">\n",
       "  <thead>\n",
       "    <tr style=\"text-align: right;\">\n",
       "      <th></th>\n",
       "      <th>Depth [m]</th>\n",
       "      <th>Density[kg/m3]</th>\n",
       "    </tr>\n",
       "  </thead>\n",
       "  <tbody>\n",
       "    <tr>\n",
       "      <th>0</th>\n",
       "      <td>1.375</td>\n",
       "      <td>330.276709</td>\n",
       "    </tr>\n",
       "    <tr>\n",
       "      <th>1</th>\n",
       "      <td>1.925</td>\n",
       "      <td>342.072306</td>\n",
       "    </tr>\n",
       "    <tr>\n",
       "      <th>2</th>\n",
       "      <td>2.475</td>\n",
       "      <td>394.581737</td>\n",
       "    </tr>\n",
       "    <tr>\n",
       "      <th>3</th>\n",
       "      <td>3.025</td>\n",
       "      <td>343.213815</td>\n",
       "    </tr>\n",
       "    <tr>\n",
       "      <th>4</th>\n",
       "      <td>3.575</td>\n",
       "      <td>418.553433</td>\n",
       "    </tr>\n",
       "  </tbody>\n",
       "</table>\n",
       "</div>"
      ],
      "text/plain": [
       "   Depth [m]  Density[kg/m3]\n",
       "0      1.375      330.276709\n",
       "1      1.925      342.072306\n",
       "2      2.475      394.581737\n",
       "3      3.025      343.213815\n",
       "4      3.575      418.553433"
      ]
     },
     "execution_count": 13,
     "metadata": {},
     "output_type": "execute_result"
    }
   ],
   "source": [
    "profile3.head()"
   ]
  },
  {
   "cell_type": "code",
   "execution_count": 14,
   "metadata": {},
   "outputs": [],
   "source": [
    "import scipy.io as sio"
   ]
  },
  {
   "cell_type": "code",
   "execution_count": 15,
   "metadata": {},
   "outputs": [],
   "source": [
    "years = range(1980,2017)"
   ]
  },
  {
   "cell_type": "code",
   "execution_count": 16,
   "metadata": {},
   "outputs": [
    {
     "ename": "TypeError",
     "evalue": "'NoneType' object is not iterable",
     "output_type": "error",
     "traceback": [
      "\u001b[0;31m---------------------------------------------------------------------------\u001b[0m",
      "\u001b[0;31mTypeError\u001b[0m                                 Traceback (most recent call last)",
      "\u001b[0;32m<ipython-input-16-661e440d4cab>\u001b[0m in \u001b[0;36m<module>\u001b[0;34m()\u001b[0m\n\u001b[1;32m      1\u001b[0m \u001b[0mweather\u001b[0m \u001b[0;34m=\u001b[0m \u001b[0;34m{\u001b[0m\u001b[0;34m}\u001b[0m\u001b[0;34m\u001b[0m\u001b[0m\n\u001b[1;32m      2\u001b[0m \u001b[0;32mfor\u001b[0m \u001b[0my\u001b[0m \u001b[0;32min\u001b[0m \u001b[0myears\u001b[0m\u001b[0;34m:\u001b[0m\u001b[0;34m\u001b[0m\u001b[0m\n\u001b[0;32m----> 3\u001b[0;31m     \u001b[0mweather\u001b[0m\u001b[0;34m[\u001b[0m\u001b[0my\u001b[0m\u001b[0;34m]\u001b[0m \u001b[0;34m=\u001b[0m \u001b[0msio\u001b[0m\u001b[0;34m.\u001b[0m\u001b[0mloadmat\u001b[0m\u001b[0;34m(\u001b[0m\u001b[0;34m'./weatherInput/HH2018_'\u001b[0m\u001b[0;34m+\u001b[0m\u001b[0mstr\u001b[0m\u001b[0;34m(\u001b[0m\u001b[0my\u001b[0m\u001b[0;34m)\u001b[0m\u001b[0;34m+\u001b[0m\u001b[0;34m'.mat'\u001b[0m\u001b[0;34m)\u001b[0m\u001b[0;34m\u001b[0m\u001b[0m\n\u001b[0m",
      "\u001b[0;32m~/anaconda/lib/python3.6/site-packages/scipy/io/matlab/mio.py\u001b[0m in \u001b[0;36mloadmat\u001b[0;34m(file_name, mdict, appendmat, **kwargs)\u001b[0m\n\u001b[1;32m    139\u001b[0m     \"\"\"\n\u001b[1;32m    140\u001b[0m     \u001b[0mvariable_names\u001b[0m \u001b[0;34m=\u001b[0m \u001b[0mkwargs\u001b[0m\u001b[0;34m.\u001b[0m\u001b[0mpop\u001b[0m\u001b[0;34m(\u001b[0m\u001b[0;34m'variable_names'\u001b[0m\u001b[0;34m,\u001b[0m \u001b[0;32mNone\u001b[0m\u001b[0;34m)\u001b[0m\u001b[0;34m\u001b[0m\u001b[0m\n\u001b[0;32m--> 141\u001b[0;31m     \u001b[0mMR\u001b[0m\u001b[0;34m,\u001b[0m \u001b[0mfile_opened\u001b[0m \u001b[0;34m=\u001b[0m \u001b[0mmat_reader_factory\u001b[0m\u001b[0;34m(\u001b[0m\u001b[0mfile_name\u001b[0m\u001b[0;34m,\u001b[0m \u001b[0mappendmat\u001b[0m\u001b[0;34m,\u001b[0m \u001b[0;34m**\u001b[0m\u001b[0mkwargs\u001b[0m\u001b[0;34m)\u001b[0m\u001b[0;34m\u001b[0m\u001b[0m\n\u001b[0m\u001b[1;32m    142\u001b[0m     \u001b[0mmatfile_dict\u001b[0m \u001b[0;34m=\u001b[0m \u001b[0mMR\u001b[0m\u001b[0;34m.\u001b[0m\u001b[0mget_variables\u001b[0m\u001b[0;34m(\u001b[0m\u001b[0mvariable_names\u001b[0m\u001b[0;34m)\u001b[0m\u001b[0;34m\u001b[0m\u001b[0m\n\u001b[1;32m    143\u001b[0m     \u001b[0;32mif\u001b[0m \u001b[0mmdict\u001b[0m \u001b[0;32mis\u001b[0m \u001b[0;32mnot\u001b[0m \u001b[0;32mNone\u001b[0m\u001b[0;34m:\u001b[0m\u001b[0;34m\u001b[0m\u001b[0m\n",
      "\u001b[0;32m~/anaconda/lib/python3.6/site-packages/scipy/io/matlab/mio.py\u001b[0m in \u001b[0;36mmat_reader_factory\u001b[0;34m(file_name, appendmat, **kwargs)\u001b[0m\n\u001b[1;32m     62\u001b[0m \u001b[0;34m\u001b[0m\u001b[0m\n\u001b[1;32m     63\u001b[0m     \"\"\"\n\u001b[0;32m---> 64\u001b[0;31m     \u001b[0mbyte_stream\u001b[0m\u001b[0;34m,\u001b[0m \u001b[0mfile_opened\u001b[0m \u001b[0;34m=\u001b[0m \u001b[0m_open_file\u001b[0m\u001b[0;34m(\u001b[0m\u001b[0mfile_name\u001b[0m\u001b[0;34m,\u001b[0m \u001b[0mappendmat\u001b[0m\u001b[0;34m)\u001b[0m\u001b[0;34m\u001b[0m\u001b[0m\n\u001b[0m\u001b[1;32m     65\u001b[0m     \u001b[0mmjv\u001b[0m\u001b[0;34m,\u001b[0m \u001b[0mmnv\u001b[0m \u001b[0;34m=\u001b[0m \u001b[0mget_matfile_version\u001b[0m\u001b[0;34m(\u001b[0m\u001b[0mbyte_stream\u001b[0m\u001b[0;34m)\u001b[0m\u001b[0;34m\u001b[0m\u001b[0m\n\u001b[1;32m     66\u001b[0m     \u001b[0;32mif\u001b[0m \u001b[0mmjv\u001b[0m \u001b[0;34m==\u001b[0m \u001b[0;36m0\u001b[0m\u001b[0;34m:\u001b[0m\u001b[0;34m\u001b[0m\u001b[0m\n",
      "\u001b[0;31mTypeError\u001b[0m: 'NoneType' object is not iterable"
     ]
    }
   ],
   "source": [
    "weather = {}\n",
    "for y in years:\n",
    "    weather[y] = sio.loadmat('./weatherInput/HH2018_'+str(y)+'.mat')"
   ]
  },
  {
   "cell_type": "code",
   "execution_count": null,
   "metadata": {},
   "outputs": [],
   "source": [
    "weatherWho = sio.whosmat('/Users/GalinaJonat/Documents/FirnProject/CommunityFirnModel/firnmodel/CFM_main/weatherInput/HH2018_1980.mat')"
   ]
  },
  {
   "cell_type": "code",
   "execution_count": null,
   "metadata": {},
   "outputs": [],
   "source": [
    "weather[y]['Temp'].shape"
   ]
  },
  {
   "cell_type": "markdown",
   "metadata": {},
   "source": [
    "Weather data in one year: rows: ---- columns: month"
   ]
  },
  {
   "cell_type": "code",
   "execution_count": null,
   "metadata": {},
   "outputs": [],
   "source": [
    "info_file = sio.loadmat('./weatherInput/Infodata.mat')"
   ]
  },
  {
   "cell_type": "code",
   "execution_count": null,
   "metadata": {},
   "outputs": [],
   "source": [
    "info_file.keys()"
   ]
  },
  {
   "cell_type": "code",
   "execution_count": null,
   "metadata": {},
   "outputs": [],
   "source": [
    "info_file['lat'].shape"
   ]
  },
  {
   "cell_type": "code",
   "execution_count": null,
   "metadata": {},
   "outputs": [],
   "source": [
    "info_file['lon'].shape"
   ]
  },
  {
   "cell_type": "code",
   "execution_count": null,
   "metadata": {},
   "outputs": [],
   "source": []
  },
  {
   "cell_type": "code",
   "execution_count": null,
   "metadata": {},
   "outputs": [],
   "source": []
  },
  {
   "cell_type": "code",
   "execution_count": 17,
   "metadata": {},
   "outputs": [],
   "source": [
    "profile11 = pd.read_csv('obsProfiles/46Density.tsv', delimiter='\\t')"
   ]
  },
  {
   "cell_type": "code",
   "execution_count": 9,
   "metadata": {},
   "outputs": [],
   "source": [
    "profile21 = pd.read_csv('obsProfiles/B26_2011_converted.csv')"
   ]
  },
  {
   "cell_type": "code",
   "execution_count": 11,
   "metadata": {},
   "outputs": [],
   "source": [
    "profile31 = pd.read_csv('obsProfiles/NEEM2007shallowcoreDensity.txt')"
   ]
  },
  {
   "cell_type": "code",
   "execution_count": 14,
   "metadata": {},
   "outputs": [
    {
     "data": {
      "text/plain": [
       "1"
      ]
     },
     "execution_count": 14,
     "metadata": {},
     "output_type": "execute_result"
    }
   ],
   "source": [
    "len(profile31.columns)"
   ]
  },
  {
   "cell_type": "code",
   "execution_count": 16,
   "metadata": {},
   "outputs": [
    {
     "data": {
      "text/plain": [
       "2"
      ]
     },
     "execution_count": 16,
     "metadata": {},
     "output_type": "execute_result"
    }
   ],
   "source": [
    "len(profile21.columns)"
   ]
  },
  {
   "cell_type": "code",
   "execution_count": 38,
   "metadata": {},
   "outputs": [],
   "source": [
    "import os\n",
    "import h5py as h5\n",
    "import matplotlib.pyplot as plt"
   ]
  },
  {
   "cell_type": "code",
   "execution_count": 39,
   "metadata": {},
   "outputs": [],
   "source": [
    "rfolder = './CFMexperimentsInput2/'\n",
    "rfile='CFM_site1_results_Arthern2010S.hdf5'\n",
    "        \n",
    "fn = os.path.join(rfolder,rfile)\n",
    "            \n",
    "f = h5.File(fn,'r')\n",
    "\n",
    "# Plot resultsf rom spin run\n",
    "modelDepth = f['depth'][-1:,1]\n",
    "modelDensity = f['density'][-1:,1]"
   ]
  },
  {
   "cell_type": "code",
   "execution_count": 40,
   "metadata": {},
   "outputs": [
    {
     "data": {
      "text/plain": [
       "array([360.], dtype=float32)"
      ]
     },
     "execution_count": 40,
     "metadata": {},
     "output_type": "execute_result"
    }
   ],
   "source": [
    "modelDensity"
   ]
  },
  {
   "cell_type": "code",
   "execution_count": 49,
   "metadata": {},
   "outputs": [
    {
     "data": {
      "image/png": "[encoded data removed]",
      "text/plain": [
       "<Figure size 432x288 with 1 Axes>"
      ]
     },
     "metadata": {},
     "output_type": "display_data"
    }
   ],
   "source": [
    "profileFolder='./obsProfiles/'\n",
    "sites = ['site1', 'site2', 'site3']\n",
    "\n",
    "sProfile='46Density.tsv'\n",
    "\n",
    "        \n",
    "profilePath = os.path.join(profileFolder, sProfile)\n",
    "        \n",
    "obsProfile = pd.read_csv(profilePath)\n",
    "        \n",
    "if len(obsProfile.columns)!=2:\n",
    "    obsProfile = pd.read_csv(profilePath, delimiter='\\t')\n",
    "        \n",
    "        \n",
    "obsDepth = obsProfile['Depth [m]']\n",
    "obsDensity = obsProfile['Density [kg/m3]']\n",
    "        \n",
    "plt.figure()\n",
    "plt.gca().invert_yaxis()\n",
    "plt.plot(obsDensity, obsDepth, color='orange',label='Observation')\n",
    "\n",
    "rfolder = './CFMexperimentsInput2/'\n",
    "rfile='CFM_site1_results_Arthern2010S.hdf5'\n",
    "        \n",
    "fn = os.path.join(rfolder,rfile)\n",
    "            \n",
    "f = h5.File(fn,'r')\n",
    "\n",
    "# Plot resultsf rom spin run\n",
    "modelDepth = f['depth'][-1,1:]\n",
    "modelDensity = f['density'][-1,1:]\n",
    "\n",
    "plt.plot(modelDensity,modelDepth, c='green', label='A2010', linewidth=0.5)\n",
    "plt.legend()\n",
    "plt.ylabel('Depth [m]') #TODO: unit\n",
    "plt.xlabel('Density [kg/m3]')\n",
    "plt.title(sProfile.replace('.csv', '').replace('.tsv','')+'\\n Depth Density Profile' )\n",
    "plt.show()"
   ]
  },
  {
   "cell_type": "code",
   "execution_count": null,
   "metadata": {},
   "outputs": [],
   "source": []
  },
  {
   "cell_type": "code",
   "execution_count": 50,
   "metadata": {},
   "outputs": [],
   "source": [
    "df = pd.DataFrame()"
   ]
  },
  {
   "cell_type": "code",
   "execution_count": 52,
   "metadata": {},
   "outputs": [],
   "source": [
    "df['a'] = [1, 2, 3]"
   ]
  },
  {
   "cell_type": "code",
   "execution_count": 53,
   "metadata": {},
   "outputs": [
    {
     "data": {
      "text/html": [
       "<div>\n",
       "<style scoped>\n",
       "    .dataframe tbody tr th:only-of-type {\n",
       "        vertical-align: middle;\n",
       "    }\n",
       "\n",
       "    .dataframe tbody tr th {\n",
       "        vertical-align: top;\n",
       "    }\n",
       "\n",
       "    .dataframe thead th {\n",
       "        text-align: right;\n",
       "    }\n",
       "</style>\n",
       "<table border=\"1\" class=\"dataframe\">\n",
       "  <thead>\n",
       "    <tr style=\"text-align: right;\">\n",
       "      <th></th>\n",
       "      <th>a</th>\n",
       "    </tr>\n",
       "  </thead>\n",
       "  <tbody>\n",
       "    <tr>\n",
       "      <th>0</th>\n",
       "      <td>1</td>\n",
       "    </tr>\n",
       "    <tr>\n",
       "      <th>1</th>\n",
       "      <td>2</td>\n",
       "    </tr>\n",
       "    <tr>\n",
       "      <th>2</th>\n",
       "      <td>3</td>\n",
       "    </tr>\n",
       "  </tbody>\n",
       "</table>\n",
       "</div>"
      ],
      "text/plain": [
       "   a\n",
       "0  1\n",
       "1  2\n",
       "2  3"
      ]
     },
     "execution_count": 53,
     "metadata": {},
     "output_type": "execute_result"
    }
   ],
   "source": [
    "df"
   ]
  },
  {
   "cell_type": "code",
   "execution_count": 54,
   "metadata": {},
   "outputs": [],
   "source": [
    "profilePath = './obsProfiles/46Density.tsv'\n",
    "modelFile = './CFMexperimentsInput2/CFM_site1_results_Arthern2010S.hdf5'\n",
    "\n",
    "obsProfile = pd.read_csv(profilePath)\n",
    "    \n",
    "if len(obsProfile.columns)!=2:\n",
    "    obsProfile = pd.read_csv(profilePath, delimiter='\\t')\n",
    "    \n",
    "f = h5.File(modelFile,'r')\n",
    "\n",
    "modelDepth = f['depth'][-1,1:]\n",
    "modelDensity = f['density'][-1,1:]    \n",
    "    \n",
    "modelProfile = pd.DataFrame()\n",
    "modelProfile['Depth [m]'] = modelDepth\n",
    "modelProfile['modelDensity [kg/m3]'] = modelDensity\n"
   ]
  },
  {
   "cell_type": "code",
   "execution_count": 56,
   "metadata": {},
   "outputs": [
    {
     "data": {
      "text/html": [
       "<div>\n",
       "<style scoped>\n",
       "    .dataframe tbody tr th:only-of-type {\n",
       "        vertical-align: middle;\n",
       "    }\n",
       "\n",
       "    .dataframe tbody tr th {\n",
       "        vertical-align: top;\n",
       "    }\n",
       "\n",
       "    .dataframe thead th {\n",
       "        text-align: right;\n",
       "    }\n",
       "</style>\n",
       "<table border=\"1\" class=\"dataframe\">\n",
       "  <thead>\n",
       "    <tr style=\"text-align: right;\">\n",
       "      <th></th>\n",
       "      <th>Depth [m]</th>\n",
       "      <th>modelDensity [kg/m3]</th>\n",
       "    </tr>\n",
       "  </thead>\n",
       "  <tbody>\n",
       "    <tr>\n",
       "      <th>0</th>\n",
       "      <td>0.000000</td>\n",
       "      <td>360.000000</td>\n",
       "    </tr>\n",
       "    <tr>\n",
       "      <th>1</th>\n",
       "      <td>2.020890</td>\n",
       "      <td>386.287903</td>\n",
       "    </tr>\n",
       "    <tr>\n",
       "      <th>2</th>\n",
       "      <td>3.820004</td>\n",
       "      <td>444.463348</td>\n",
       "    </tr>\n",
       "    <tr>\n",
       "      <th>3</th>\n",
       "      <td>5.199475</td>\n",
       "      <td>497.373688</td>\n",
       "    </tr>\n",
       "    <tr>\n",
       "      <th>4</th>\n",
       "      <td>8.065113</td>\n",
       "      <td>577.264771</td>\n",
       "    </tr>\n",
       "  </tbody>\n",
       "</table>\n",
       "</div>"
      ],
      "text/plain": [
       "   Depth [m]  modelDensity [kg/m3]\n",
       "0   0.000000            360.000000\n",
       "1   2.020890            386.287903\n",
       "2   3.820004            444.463348\n",
       "3   5.199475            497.373688\n",
       "4   8.065113            577.264771"
      ]
     },
     "execution_count": 56,
     "metadata": {},
     "output_type": "execute_result"
    }
   ],
   "source": [
    "modelProfile.head()"
   ]
  },
  {
   "cell_type": "code",
   "execution_count": 101,
   "metadata": {},
   "outputs": [
    {
     "data": {
      "text/plain": [
       "82.5"
      ]
     },
     "execution_count": 101,
     "metadata": {},
     "output_type": "execute_result"
    }
   ],
   "source": [
    "max(obsProfile['Depth [m]'])"
   ]
  },
  {
   "cell_type": "code",
   "execution_count": 105,
   "metadata": {},
   "outputs": [],
   "source": [
    "merge = pd.merge(modelProfile, obsProfile, on='Depth [m]', how='outer')"
   ]
  },
  {
   "cell_type": "code",
   "execution_count": 106,
   "metadata": {},
   "outputs": [],
   "source": [
    "merge = merge.sort_values('Depth [m]')"
   ]
  },
  {
   "cell_type": "code",
   "execution_count": 107,
   "metadata": {},
   "outputs": [],
   "source": [
    "merge = merge[merge['Depth [m]'] < max(obsProfile['Depth [m]']) ]"
   ]
  },
  {
   "cell_type": "code",
   "execution_count": 108,
   "metadata": {},
   "outputs": [],
   "source": [
    "merge = merge.set_index('Depth [m]')"
   ]
  },
  {
   "cell_type": "code",
   "execution_count": null,
   "metadata": {},
   "outputs": [],
   "source": []
  },
  {
   "cell_type": "code",
   "execution_count": 110,
   "metadata": {},
   "outputs": [
    {
     "data": {
      "text/html": [
       "<div>\n",
       "<style scoped>\n",
       "    .dataframe tbody tr th:only-of-type {\n",
       "        vertical-align: middle;\n",
       "    }\n",
       "\n",
       "    .dataframe tbody tr th {\n",
       "        vertical-align: top;\n",
       "    }\n",
       "\n",
       "    .dataframe thead th {\n",
       "        text-align: right;\n",
       "    }\n",
       "</style>\n",
       "<table border=\"1\" class=\"dataframe\">\n",
       "  <thead>\n",
       "    <tr style=\"text-align: right;\">\n",
       "      <th></th>\n",
       "      <th>modelDensity [kg/m3]</th>\n",
       "      <th>Density [kg/m3]</th>\n",
       "    </tr>\n",
       "    <tr>\n",
       "      <th>Depth [m]</th>\n",
       "      <th></th>\n",
       "      <th></th>\n",
       "    </tr>\n",
       "  </thead>\n",
       "  <tbody>\n",
       "    <tr>\n",
       "      <th>0.000000</th>\n",
       "      <td>360.000000</td>\n",
       "      <td>NaN</td>\n",
       "    </tr>\n",
       "    <tr>\n",
       "      <th>2.020890</th>\n",
       "      <td>386.287903</td>\n",
       "      <td>NaN</td>\n",
       "    </tr>\n",
       "    <tr>\n",
       "      <th>3.300000</th>\n",
       "      <td>415.375610</td>\n",
       "      <td>883.894616</td>\n",
       "    </tr>\n",
       "    <tr>\n",
       "      <th>3.820004</th>\n",
       "      <td>444.463348</td>\n",
       "      <td>880.627207</td>\n",
       "    </tr>\n",
       "    <tr>\n",
       "      <th>3.850000</th>\n",
       "      <td>457.690918</td>\n",
       "      <td>877.359798</td>\n",
       "    </tr>\n",
       "    <tr>\n",
       "      <th>4.400000</th>\n",
       "      <td>470.918518</td>\n",
       "      <td>870.582950</td>\n",
       "    </tr>\n",
       "    <tr>\n",
       "      <th>4.950000</th>\n",
       "      <td>484.146118</td>\n",
       "      <td>903.983130</td>\n",
       "    </tr>\n",
       "    <tr>\n",
       "      <th>5.199475</th>\n",
       "      <td>497.373688</td>\n",
       "      <td>898.537448</td>\n",
       "    </tr>\n",
       "    <tr>\n",
       "      <th>5.500000</th>\n",
       "      <td>510.688873</td>\n",
       "      <td>893.091767</td>\n",
       "    </tr>\n",
       "    <tr>\n",
       "      <th>6.050000</th>\n",
       "      <td>524.004028</td>\n",
       "      <td>888.251161</td>\n",
       "    </tr>\n",
       "    <tr>\n",
       "      <th>6.600000</th>\n",
       "      <td>537.319214</td>\n",
       "      <td>859.207526</td>\n",
       "    </tr>\n",
       "    <tr>\n",
       "      <th>7.150000</th>\n",
       "      <td>550.634399</td>\n",
       "      <td>539.727545</td>\n",
       "    </tr>\n",
       "    <tr>\n",
       "      <th>7.700000</th>\n",
       "      <td>563.949585</td>\n",
       "      <td>663.162992</td>\n",
       "    </tr>\n",
       "    <tr>\n",
       "      <th>8.065113</th>\n",
       "      <td>577.264771</td>\n",
       "      <td>629.278752</td>\n",
       "    </tr>\n",
       "    <tr>\n",
       "      <th>8.250000</th>\n",
       "      <td>576.948730</td>\n",
       "      <td>595.394511</td>\n",
       "    </tr>\n",
       "    <tr>\n",
       "      <th>8.800000</th>\n",
       "      <td>576.632751</td>\n",
       "      <td>620.043385</td>\n",
       "    </tr>\n",
       "    <tr>\n",
       "      <th>9.350000</th>\n",
       "      <td>576.316772</td>\n",
       "      <td>554.569025</td>\n",
       "    </tr>\n",
       "    <tr>\n",
       "      <th>9.805820</th>\n",
       "      <td>576.000732</td>\n",
       "      <td>605.840630</td>\n",
       "    </tr>\n",
       "    <tr>\n",
       "      <th>9.900000</th>\n",
       "      <td>584.954468</td>\n",
       "      <td>657.112235</td>\n",
       "    </tr>\n",
       "    <tr>\n",
       "      <th>10.450000</th>\n",
       "      <td>593.908264</td>\n",
       "      <td>780.547682</td>\n",
       "    </tr>\n",
       "    <tr>\n",
       "      <th>10.471138</th>\n",
       "      <td>602.862000</td>\n",
       "      <td>834.399422</td>\n",
       "    </tr>\n",
       "    <tr>\n",
       "      <th>11.000000</th>\n",
       "      <td>646.952515</td>\n",
       "      <td>888.251161</td>\n",
       "    </tr>\n",
       "    <tr>\n",
       "      <th>11.550000</th>\n",
       "      <td>691.043091</td>\n",
       "      <td>897.932373</td>\n",
       "    </tr>\n",
       "    <tr>\n",
       "      <th>11.770138</th>\n",
       "      <td>735.133606</td>\n",
       "      <td>796.279651</td>\n",
       "    </tr>\n",
       "    <tr>\n",
       "      <th>12.100000</th>\n",
       "      <td>730.236084</td>\n",
       "      <td>694.626930</td>\n",
       "    </tr>\n",
       "    <tr>\n",
       "      <th>12.650000</th>\n",
       "      <td>725.338623</td>\n",
       "      <td>658.322386</td>\n",
       "    </tr>\n",
       "    <tr>\n",
       "      <th>13.200000</th>\n",
       "      <td>720.441101</td>\n",
       "      <td>888.251161</td>\n",
       "    </tr>\n",
       "    <tr>\n",
       "      <th>13.750000</th>\n",
       "      <td>715.543579</td>\n",
       "      <td>697.047233</td>\n",
       "    </tr>\n",
       "    <tr>\n",
       "      <th>14.300000</th>\n",
       "      <td>710.646118</td>\n",
       "      <td>722.460413</td>\n",
       "    </tr>\n",
       "    <tr>\n",
       "      <th>14.850000</th>\n",
       "      <td>705.748596</td>\n",
       "      <td>739.402533</td>\n",
       "    </tr>\n",
       "    <tr>\n",
       "      <th>...</th>\n",
       "      <td>...</td>\n",
       "      <td>...</td>\n",
       "    </tr>\n",
       "    <tr>\n",
       "      <th>74.800000</th>\n",
       "      <td>874.372070</td>\n",
       "      <td>871.309041</td>\n",
       "    </tr>\n",
       "    <tr>\n",
       "      <th>74.851028</th>\n",
       "      <td>874.843689</td>\n",
       "      <td>880.586869</td>\n",
       "    </tr>\n",
       "    <tr>\n",
       "      <th>75.339211</th>\n",
       "      <td>875.767700</td>\n",
       "      <td>889.864696</td>\n",
       "    </tr>\n",
       "    <tr>\n",
       "      <th>75.350000</th>\n",
       "      <td>876.220215</td>\n",
       "      <td>899.142524</td>\n",
       "    </tr>\n",
       "    <tr>\n",
       "      <th>75.826881</th>\n",
       "      <td>876.672791</td>\n",
       "      <td>899.142524</td>\n",
       "    </tr>\n",
       "    <tr>\n",
       "      <th>75.900000</th>\n",
       "      <td>877.116089</td>\n",
       "      <td>899.142524</td>\n",
       "    </tr>\n",
       "    <tr>\n",
       "      <th>76.314041</th>\n",
       "      <td>877.559326</td>\n",
       "      <td>900.352675</td>\n",
       "    </tr>\n",
       "    <tr>\n",
       "      <th>76.450000</th>\n",
       "      <td>877.993408</td>\n",
       "      <td>901.562827</td>\n",
       "    </tr>\n",
       "    <tr>\n",
       "      <th>76.800713</th>\n",
       "      <td>878.427551</td>\n",
       "      <td>896.117145</td>\n",
       "    </tr>\n",
       "    <tr>\n",
       "      <th>77.000000</th>\n",
       "      <td>878.852661</td>\n",
       "      <td>890.671464</td>\n",
       "    </tr>\n",
       "    <tr>\n",
       "      <th>77.286903</th>\n",
       "      <td>879.277832</td>\n",
       "      <td>897.932373</td>\n",
       "    </tr>\n",
       "    <tr>\n",
       "      <th>77.550000</th>\n",
       "      <td>879.694153</td>\n",
       "      <td>905.193281</td>\n",
       "    </tr>\n",
       "    <tr>\n",
       "      <th>77.772629</th>\n",
       "      <td>880.110474</td>\n",
       "      <td>893.091767</td>\n",
       "    </tr>\n",
       "    <tr>\n",
       "      <th>78.100000</th>\n",
       "      <td>880.518066</td>\n",
       "      <td>880.990252</td>\n",
       "    </tr>\n",
       "    <tr>\n",
       "      <th>78.257889</th>\n",
       "      <td>880.925720</td>\n",
       "      <td>891.276540</td>\n",
       "    </tr>\n",
       "    <tr>\n",
       "      <th>78.650000</th>\n",
       "      <td>881.324829</td>\n",
       "      <td>901.562827</td>\n",
       "    </tr>\n",
       "    <tr>\n",
       "      <th>78.742699</th>\n",
       "      <td>881.723938</td>\n",
       "      <td>891.276540</td>\n",
       "    </tr>\n",
       "    <tr>\n",
       "      <th>79.200000</th>\n",
       "      <td>882.114624</td>\n",
       "      <td>880.990252</td>\n",
       "    </tr>\n",
       "    <tr>\n",
       "      <th>79.227074</th>\n",
       "      <td>882.505371</td>\n",
       "      <td>873.325960</td>\n",
       "    </tr>\n",
       "    <tr>\n",
       "      <th>79.711021</th>\n",
       "      <td>883.270386</td>\n",
       "      <td>865.661667</td>\n",
       "    </tr>\n",
       "    <tr>\n",
       "      <th>79.750000</th>\n",
       "      <td>883.644775</td>\n",
       "      <td>857.997375</td>\n",
       "    </tr>\n",
       "    <tr>\n",
       "      <th>80.194542</th>\n",
       "      <td>884.019226</td>\n",
       "      <td>876.754722</td>\n",
       "    </tr>\n",
       "    <tr>\n",
       "      <th>80.300000</th>\n",
       "      <td>884.385742</td>\n",
       "      <td>895.512070</td>\n",
       "    </tr>\n",
       "    <tr>\n",
       "      <th>80.677658</th>\n",
       "      <td>884.752197</td>\n",
       "      <td>895.512070</td>\n",
       "    </tr>\n",
       "    <tr>\n",
       "      <th>80.850000</th>\n",
       "      <td>885.110901</td>\n",
       "      <td>895.512070</td>\n",
       "    </tr>\n",
       "    <tr>\n",
       "      <th>81.160378</th>\n",
       "      <td>885.469604</td>\n",
       "      <td>898.537448</td>\n",
       "    </tr>\n",
       "    <tr>\n",
       "      <th>81.400000</th>\n",
       "      <td>885.820679</td>\n",
       "      <td>901.562827</td>\n",
       "    </tr>\n",
       "    <tr>\n",
       "      <th>81.642700</th>\n",
       "      <td>886.171753</td>\n",
       "      <td>895.671300</td>\n",
       "    </tr>\n",
       "    <tr>\n",
       "      <th>81.950000</th>\n",
       "      <td>886.515320</td>\n",
       "      <td>889.779773</td>\n",
       "    </tr>\n",
       "    <tr>\n",
       "      <th>82.124641</th>\n",
       "      <td>886.858887</td>\n",
       "      <td>889.779773</td>\n",
       "    </tr>\n",
       "  </tbody>\n",
       "</table>\n",
       "<p>272 rows × 2 columns</p>\n",
       "</div>"
      ],
      "text/plain": [
       "           modelDensity [kg/m3]  Density [kg/m3]\n",
       "Depth [m]                                       \n",
       "0.000000             360.000000              NaN\n",
       "2.020890             386.287903              NaN\n",
       "3.300000             415.375610       883.894616\n",
       "3.820004             444.463348       880.627207\n",
       "3.850000             457.690918       877.359798\n",
       "4.400000             470.918518       870.582950\n",
       "4.950000             484.146118       903.983130\n",
       "5.199475             497.373688       898.537448\n",
       "5.500000             510.688873       893.091767\n",
       "6.050000             524.004028       888.251161\n",
       "6.600000             537.319214       859.207526\n",
       "7.150000             550.634399       539.727545\n",
       "7.700000             563.949585       663.162992\n",
       "8.065113             577.264771       629.278752\n",
       "8.250000             576.948730       595.394511\n",
       "8.800000             576.632751       620.043385\n",
       "9.350000             576.316772       554.569025\n",
       "9.805820             576.000732       605.840630\n",
       "9.900000             584.954468       657.112235\n",
       "10.450000            593.908264       780.547682\n",
       "10.471138            602.862000       834.399422\n",
       "11.000000            646.952515       888.251161\n",
       "11.550000            691.043091       897.932373\n",
       "11.770138            735.133606       796.279651\n",
       "12.100000            730.236084       694.626930\n",
       "12.650000            725.338623       658.322386\n",
       "13.200000            720.441101       888.251161\n",
       "13.750000            715.543579       697.047233\n",
       "14.300000            710.646118       722.460413\n",
       "14.850000            705.748596       739.402533\n",
       "...                         ...              ...\n",
       "74.800000            874.372070       871.309041\n",
       "74.851028            874.843689       880.586869\n",
       "75.339211            875.767700       889.864696\n",
       "75.350000            876.220215       899.142524\n",
       "75.826881            876.672791       899.142524\n",
       "75.900000            877.116089       899.142524\n",
       "76.314041            877.559326       900.352675\n",
       "76.450000            877.993408       901.562827\n",
       "76.800713            878.427551       896.117145\n",
       "77.000000            878.852661       890.671464\n",
       "77.286903            879.277832       897.932373\n",
       "77.550000            879.694153       905.193281\n",
       "77.772629            880.110474       893.091767\n",
       "78.100000            880.518066       880.990252\n",
       "78.257889            880.925720       891.276540\n",
       "78.650000            881.324829       901.562827\n",
       "78.742699            881.723938       891.276540\n",
       "79.200000            882.114624       880.990252\n",
       "79.227074            882.505371       873.325960\n",
       "79.711021            883.270386       865.661667\n",
       "79.750000            883.644775       857.997375\n",
       "80.194542            884.019226       876.754722\n",
       "80.300000            884.385742       895.512070\n",
       "80.677658            884.752197       895.512070\n",
       "80.850000            885.110901       895.512070\n",
       "81.160378            885.469604       898.537448\n",
       "81.400000            885.820679       901.562827\n",
       "81.642700            886.171753       895.671300\n",
       "81.950000            886.515320       889.779773\n",
       "82.124641            886.858887       889.779773\n",
       "\n",
       "[272 rows x 2 columns]"
      ]
     },
     "execution_count": 110,
     "metadata": {},
     "output_type": "execute_result"
    }
   ],
   "source": [
    "merge.interpolate()"
   ]
  },
  {
   "cell_type": "code",
   "execution_count": null,
   "metadata": {},
   "outputs": [],
   "source": [
    "merge"
   ]
  },
  {
   "cell_type": "code",
   "execution_count": null,
   "metadata": {},
   "outputs": [],
   "source": []
  }
 ],
 "metadata": {
  "kernelspec": {
   "display_name": "Python 3",
   "language": "python",
   "name": "python3"
  },
  "language_info": {
   "codemirror_mode": {
    "name": "ipython",
    "version": 3
   },
   "file_extension": ".py",
   "mimetype": "text/x-python",
   "name": "python",
   "nbconvert_exporter": "python",
   "pygments_lexer": "ipython3",
   "version": "3.6.5"
  }
 },
 "nbformat": 4,
 "nbformat_minor": 2
}
